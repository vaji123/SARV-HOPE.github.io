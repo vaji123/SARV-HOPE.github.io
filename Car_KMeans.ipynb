{
 "cells": [
  {
   "cell_type": "code",
   "execution_count": 1,
   "id": "b86595e0",
   "metadata": {},
   "outputs": [],
   "source": [
    "import numpy as np\n",
    "import pandas as pd\n",
    "import statsmodels.api as sm\n",
    "import matplotlib.pyplot as plt\n",
    "import seaborn as sns\n",
    "sns.set()\n",
    "from sklearn.cluster import KMeans\n",
    "import requests"
   ]
  },
  {
   "cell_type": "code",
   "execution_count": 2,
   "id": "3b8cd957",
   "metadata": {},
   "outputs": [],
   "source": [
    "# https://deallen7.medium.com/how-to-create-a-pandas-dataframe-from-an-api-endpoint-in-a-jupyter-notebook-f2561f766ca3"
   ]
  },
  {
   "cell_type": "code",
   "execution_count": 3,
   "id": "9a55e269",
   "metadata": {},
   "outputs": [],
   "source": [
    "url = 'https://0d8p49x2jb.execute-api.ap-south-1.amazonaws.com/ch/carforward'"
   ]
  },
  {
   "cell_type": "code",
   "execution_count": 4,
   "id": "64a5e85d",
   "metadata": {},
   "outputs": [],
   "source": [
    "url2 = 'https://0d8p49x2jb.execute-api.ap-south-1.amazonaws.com/ch/carbackwardall'"
   ]
  },
  {
   "cell_type": "code",
   "execution_count": 5,
   "id": "14c25897",
   "metadata": {},
   "outputs": [],
   "source": [
    "r = requests.get(url)"
   ]
  },
  {
   "cell_type": "code",
   "execution_count": 6,
   "id": "88b1e516",
   "metadata": {},
   "outputs": [
    {
     "data": {
      "text/plain": [
       "<Response [200]>"
      ]
     },
     "execution_count": 6,
     "metadata": {},
     "output_type": "execute_result"
    }
   ],
   "source": [
    "r"
   ]
  },
  {
   "cell_type": "code",
   "execution_count": 7,
   "id": "76445a39",
   "metadata": {},
   "outputs": [
    {
     "data": {
      "text/plain": [
       "<Response [200]>"
      ]
     },
     "execution_count": 7,
     "metadata": {},
     "output_type": "execute_result"
    }
   ],
   "source": [
    "r2 = requests.get(url2)\n",
    "r2"
   ]
  },
  {
   "cell_type": "code",
   "execution_count": 8,
   "id": "122a637c",
   "metadata": {},
   "outputs": [],
   "source": [
    "json = r.json()\n",
    "json2 = r2.json()"
   ]
  },
  {
   "cell_type": "code",
   "execution_count": 9,
   "id": "91bbfe68",
   "metadata": {},
   "outputs": [],
   "source": [
    "# json.keys()"
   ]
  },
  {
   "cell_type": "code",
   "execution_count": 10,
   "id": "4e16fd2d",
   "metadata": {},
   "outputs": [
    {
     "data": {
      "text/html": [
       "<div>\n",
       "<style scoped>\n",
       "    .dataframe tbody tr th:only-of-type {\n",
       "        vertical-align: middle;\n",
       "    }\n",
       "\n",
       "    .dataframe tbody tr th {\n",
       "        vertical-align: top;\n",
       "    }\n",
       "\n",
       "    .dataframe thead th {\n",
       "        text-align: right;\n",
       "    }\n",
       "</style>\n",
       "<table border=\"1\" class=\"dataframe\">\n",
       "  <thead>\n",
       "    <tr style=\"text-align: right;\">\n",
       "      <th></th>\n",
       "      <th>Date Time</th>\n",
       "      <th>Date</th>\n",
       "      <th>Direction2</th>\n",
       "      <th>Direction1</th>\n",
       "      <th>MilliSeconds</th>\n",
       "      <th>count1</th>\n",
       "      <th>count2</th>\n",
       "      <th>nRotations2</th>\n",
       "      <th>Timestamp</th>\n",
       "      <th>nRotations1</th>\n",
       "      <th>Activity</th>\n",
       "      <th>Time</th>\n",
       "      <th>cid</th>\n",
       "    </tr>\n",
       "  </thead>\n",
       "  <tbody>\n",
       "    <tr>\n",
       "      <th>0</th>\n",
       "      <td>10/11/2022, 20:50:57</td>\n",
       "      <td>10/11/2022</td>\n",
       "      <td></td>\n",
       "      <td></td>\n",
       "      <td>36256.0</td>\n",
       "      <td>0.0</td>\n",
       "      <td>0.0</td>\n",
       "      <td>0.0</td>\n",
       "      <td>1.665502e+12</td>\n",
       "      <td>0.0</td>\n",
       "      <td>Forward</td>\n",
       "      <td>20:50:57</td>\n",
       "      <td>SCH002</td>\n",
       "    </tr>\n",
       "    <tr>\n",
       "      <th>1</th>\n",
       "      <td>10/11/2022, 20:50:57</td>\n",
       "      <td>10/11/2022</td>\n",
       "      <td></td>\n",
       "      <td></td>\n",
       "      <td>38258.0</td>\n",
       "      <td>0.0</td>\n",
       "      <td>0.0</td>\n",
       "      <td>0.0</td>\n",
       "      <td>1.665502e+12</td>\n",
       "      <td>0.0</td>\n",
       "      <td>Forward</td>\n",
       "      <td>20:50:57</td>\n",
       "      <td>SCH002</td>\n",
       "    </tr>\n",
       "    <tr>\n",
       "      <th>2</th>\n",
       "      <td>10/11/2022, 20:50:57</td>\n",
       "      <td>10/11/2022</td>\n",
       "      <td></td>\n",
       "      <td></td>\n",
       "      <td>40261.0</td>\n",
       "      <td>0.0</td>\n",
       "      <td>0.0</td>\n",
       "      <td>0.0</td>\n",
       "      <td>1.665502e+12</td>\n",
       "      <td>0.0</td>\n",
       "      <td>Forward</td>\n",
       "      <td>20:50:57</td>\n",
       "      <td>SCH002</td>\n",
       "    </tr>\n",
       "    <tr>\n",
       "      <th>3</th>\n",
       "      <td>10/11/2022, 20:50:57</td>\n",
       "      <td>10/11/2022</td>\n",
       "      <td></td>\n",
       "      <td></td>\n",
       "      <td>42262.0</td>\n",
       "      <td>0.0</td>\n",
       "      <td>0.0</td>\n",
       "      <td>0.0</td>\n",
       "      <td>1.665502e+12</td>\n",
       "      <td>0.0</td>\n",
       "      <td>Forward</td>\n",
       "      <td>20:50:57</td>\n",
       "      <td>SCH002</td>\n",
       "    </tr>\n",
       "    <tr>\n",
       "      <th>4</th>\n",
       "      <td>10/11/2022, 20:50:57</td>\n",
       "      <td>10/11/2022</td>\n",
       "      <td></td>\n",
       "      <td></td>\n",
       "      <td>44264.0</td>\n",
       "      <td>0.0</td>\n",
       "      <td>0.0</td>\n",
       "      <td>0.0</td>\n",
       "      <td>1.665502e+12</td>\n",
       "      <td>0.0</td>\n",
       "      <td>Forward</td>\n",
       "      <td>20:50:57</td>\n",
       "      <td>SCH002</td>\n",
       "    </tr>\n",
       "    <tr>\n",
       "      <th>...</th>\n",
       "      <td>...</td>\n",
       "      <td>...</td>\n",
       "      <td>...</td>\n",
       "      <td>...</td>\n",
       "      <td>...</td>\n",
       "      <td>...</td>\n",
       "      <td>...</td>\n",
       "      <td>...</td>\n",
       "      <td>...</td>\n",
       "      <td>...</td>\n",
       "      <td>...</td>\n",
       "      <td>...</td>\n",
       "      <td>...</td>\n",
       "    </tr>\n",
       "    <tr>\n",
       "      <th>597</th>\n",
       "      <td>10/11/2022, 20:58:39</td>\n",
       "      <td>10/11/2022</td>\n",
       "      <td></td>\n",
       "      <td></td>\n",
       "      <td>86288.0</td>\n",
       "      <td>0.0</td>\n",
       "      <td>0.0</td>\n",
       "      <td>0.0</td>\n",
       "      <td>1.665502e+12</td>\n",
       "      <td>0.0</td>\n",
       "      <td>Back</td>\n",
       "      <td>20:58:39</td>\n",
       "      <td>SCH001</td>\n",
       "    </tr>\n",
       "    <tr>\n",
       "      <th>598</th>\n",
       "      <td>10/11/2022, 20:58:39</td>\n",
       "      <td>10/11/2022</td>\n",
       "      <td></td>\n",
       "      <td></td>\n",
       "      <td>88290.0</td>\n",
       "      <td>0.0</td>\n",
       "      <td>0.0</td>\n",
       "      <td>0.0</td>\n",
       "      <td>1.665502e+12</td>\n",
       "      <td>0.0</td>\n",
       "      <td>Back</td>\n",
       "      <td>20:58:39</td>\n",
       "      <td>SCH001</td>\n",
       "    </tr>\n",
       "    <tr>\n",
       "      <th>599</th>\n",
       "      <td>10/11/2022, 20:58:39</td>\n",
       "      <td>10/11/2022</td>\n",
       "      <td></td>\n",
       "      <td></td>\n",
       "      <td>90294.0</td>\n",
       "      <td>0.0</td>\n",
       "      <td>0.0</td>\n",
       "      <td>0.0</td>\n",
       "      <td>1.665502e+12</td>\n",
       "      <td>0.0</td>\n",
       "      <td>Back</td>\n",
       "      <td>20:58:39</td>\n",
       "      <td>SCH001</td>\n",
       "    </tr>\n",
       "    <tr>\n",
       "      <th>600</th>\n",
       "      <td>10/11/2022, 20:58:39</td>\n",
       "      <td>10/11/2022</td>\n",
       "      <td></td>\n",
       "      <td></td>\n",
       "      <td>92299.0</td>\n",
       "      <td>0.0</td>\n",
       "      <td>0.0</td>\n",
       "      <td>0.0</td>\n",
       "      <td>1.665502e+12</td>\n",
       "      <td>0.0</td>\n",
       "      <td>Back</td>\n",
       "      <td>20:58:39</td>\n",
       "      <td>SCH001</td>\n",
       "    </tr>\n",
       "    <tr>\n",
       "      <th>601</th>\n",
       "      <td>10/11/2022, 20:58:39</td>\n",
       "      <td>10/11/2022</td>\n",
       "      <td></td>\n",
       "      <td></td>\n",
       "      <td>94305.0</td>\n",
       "      <td>0.0</td>\n",
       "      <td>0.0</td>\n",
       "      <td>0.0</td>\n",
       "      <td>1.665502e+12</td>\n",
       "      <td>0.0</td>\n",
       "      <td>Back</td>\n",
       "      <td>20:58:39</td>\n",
       "      <td>SCH001</td>\n",
       "    </tr>\n",
       "  </tbody>\n",
       "</table>\n",
       "<p>602 rows × 13 columns</p>\n",
       "</div>"
      ],
      "text/plain": [
       "                Date Time        Date Direction2 Direction1  MilliSeconds  \\\n",
       "0    10/11/2022, 20:50:57  10/11/2022                             36256.0   \n",
       "1    10/11/2022, 20:50:57  10/11/2022                             38258.0   \n",
       "2    10/11/2022, 20:50:57  10/11/2022                             40261.0   \n",
       "3    10/11/2022, 20:50:57  10/11/2022                             42262.0   \n",
       "4    10/11/2022, 20:50:57  10/11/2022                             44264.0   \n",
       "..                    ...         ...        ...        ...           ...   \n",
       "597  10/11/2022, 20:58:39  10/11/2022                             86288.0   \n",
       "598  10/11/2022, 20:58:39  10/11/2022                             88290.0   \n",
       "599  10/11/2022, 20:58:39  10/11/2022                             90294.0   \n",
       "600  10/11/2022, 20:58:39  10/11/2022                             92299.0   \n",
       "601  10/11/2022, 20:58:39  10/11/2022                             94305.0   \n",
       "\n",
       "     count1  count2  nRotations2     Timestamp  nRotations1 Activity  \\\n",
       "0       0.0     0.0          0.0  1.665502e+12          0.0  Forward   \n",
       "1       0.0     0.0          0.0  1.665502e+12          0.0  Forward   \n",
       "2       0.0     0.0          0.0  1.665502e+12          0.0  Forward   \n",
       "3       0.0     0.0          0.0  1.665502e+12          0.0  Forward   \n",
       "4       0.0     0.0          0.0  1.665502e+12          0.0  Forward   \n",
       "..      ...     ...          ...           ...          ...      ...   \n",
       "597     0.0     0.0          0.0  1.665502e+12          0.0     Back   \n",
       "598     0.0     0.0          0.0  1.665502e+12          0.0     Back   \n",
       "599     0.0     0.0          0.0  1.665502e+12          0.0     Back   \n",
       "600     0.0     0.0          0.0  1.665502e+12          0.0     Back   \n",
       "601     0.0     0.0          0.0  1.665502e+12          0.0     Back   \n",
       "\n",
       "         Time     cid  \n",
       "0    20:50:57  SCH002  \n",
       "1    20:50:57  SCH002  \n",
       "2    20:50:57  SCH002  \n",
       "3    20:50:57  SCH002  \n",
       "4    20:50:57  SCH002  \n",
       "..        ...     ...  \n",
       "597  20:58:39  SCH001  \n",
       "598  20:58:39  SCH001  \n",
       "599  20:58:39  SCH001  \n",
       "600  20:58:39  SCH001  \n",
       "601  20:58:39  SCH001  \n",
       "\n",
       "[602 rows x 13 columns]"
      ]
     },
     "execution_count": 10,
     "metadata": {},
     "output_type": "execute_result"
    }
   ],
   "source": [
    "dataframe = pd.DataFrame.from_dict(json, orient=\"columns\")\n",
    "dataframe"
   ]
  },
  {
   "cell_type": "code",
   "execution_count": 11,
   "id": "22565c46",
   "metadata": {},
   "outputs": [],
   "source": [
    "dataframe=dataframe.loc[dataframe.Activity=='Forward',:]"
   ]
  },
  {
   "cell_type": "code",
   "execution_count": 12,
   "id": "a30508a4",
   "metadata": {},
   "outputs": [
    {
     "data": {
      "text/html": [
       "<div>\n",
       "<style scoped>\n",
       "    .dataframe tbody tr th:only-of-type {\n",
       "        vertical-align: middle;\n",
       "    }\n",
       "\n",
       "    .dataframe tbody tr th {\n",
       "        vertical-align: top;\n",
       "    }\n",
       "\n",
       "    .dataframe thead th {\n",
       "        text-align: right;\n",
       "    }\n",
       "</style>\n",
       "<table border=\"1\" class=\"dataframe\">\n",
       "  <thead>\n",
       "    <tr style=\"text-align: right;\">\n",
       "      <th></th>\n",
       "      <th>Direction4</th>\n",
       "      <th>Date Time</th>\n",
       "      <th>Date</th>\n",
       "      <th>Direction3</th>\n",
       "      <th>MilliSeconds</th>\n",
       "      <th>count3</th>\n",
       "      <th>count4</th>\n",
       "      <th>nRotations3</th>\n",
       "      <th>Timestamp</th>\n",
       "      <th>nRotations4</th>\n",
       "      <th>Activity</th>\n",
       "      <th>Time</th>\n",
       "      <th>cid</th>\n",
       "    </tr>\n",
       "  </thead>\n",
       "  <tbody>\n",
       "    <tr>\n",
       "      <th>0</th>\n",
       "      <td></td>\n",
       "      <td>10/11/2022, 20:49:41</td>\n",
       "      <td>10/11/2022</td>\n",
       "      <td></td>\n",
       "      <td>36681.0</td>\n",
       "      <td>0.0</td>\n",
       "      <td>0.0</td>\n",
       "      <td>0.0</td>\n",
       "      <td>1.665502e+12</td>\n",
       "      <td>0.0</td>\n",
       "      <td>Forward</td>\n",
       "      <td>20:49:41</td>\n",
       "      <td>SCH002</td>\n",
       "    </tr>\n",
       "    <tr>\n",
       "      <th>1</th>\n",
       "      <td></td>\n",
       "      <td>10/11/2022, 20:49:41</td>\n",
       "      <td>10/11/2022</td>\n",
       "      <td></td>\n",
       "      <td>39682.0</td>\n",
       "      <td>0.0</td>\n",
       "      <td>0.0</td>\n",
       "      <td>0.0</td>\n",
       "      <td>1.665502e+12</td>\n",
       "      <td>0.0</td>\n",
       "      <td>Forward</td>\n",
       "      <td>20:49:41</td>\n",
       "      <td>SCH002</td>\n",
       "    </tr>\n",
       "    <tr>\n",
       "      <th>2</th>\n",
       "      <td></td>\n",
       "      <td>10/11/2022, 20:49:41</td>\n",
       "      <td>10/11/2022</td>\n",
       "      <td></td>\n",
       "      <td>42684.0</td>\n",
       "      <td>0.0</td>\n",
       "      <td>0.0</td>\n",
       "      <td>0.0</td>\n",
       "      <td>1.665502e+12</td>\n",
       "      <td>0.0</td>\n",
       "      <td>Forward</td>\n",
       "      <td>20:49:41</td>\n",
       "      <td>SCH002</td>\n",
       "    </tr>\n",
       "    <tr>\n",
       "      <th>3</th>\n",
       "      <td></td>\n",
       "      <td>10/11/2022, 20:49:41</td>\n",
       "      <td>10/11/2022</td>\n",
       "      <td></td>\n",
       "      <td>45687.0</td>\n",
       "      <td>0.0</td>\n",
       "      <td>0.0</td>\n",
       "      <td>0.0</td>\n",
       "      <td>1.665502e+12</td>\n",
       "      <td>0.0</td>\n",
       "      <td>Forward</td>\n",
       "      <td>20:49:41</td>\n",
       "      <td>SCH002</td>\n",
       "    </tr>\n",
       "    <tr>\n",
       "      <th>4</th>\n",
       "      <td></td>\n",
       "      <td>10/11/2022, 20:49:41</td>\n",
       "      <td>10/11/2022</td>\n",
       "      <td></td>\n",
       "      <td>48688.0</td>\n",
       "      <td>0.0</td>\n",
       "      <td>0.0</td>\n",
       "      <td>0.0</td>\n",
       "      <td>1.665502e+12</td>\n",
       "      <td>0.0</td>\n",
       "      <td>Forward</td>\n",
       "      <td>20:49:41</td>\n",
       "      <td>SCH002</td>\n",
       "    </tr>\n",
       "    <tr>\n",
       "      <th>...</th>\n",
       "      <td>...</td>\n",
       "      <td>...</td>\n",
       "      <td>...</td>\n",
       "      <td>...</td>\n",
       "      <td>...</td>\n",
       "      <td>...</td>\n",
       "      <td>...</td>\n",
       "      <td>...</td>\n",
       "      <td>...</td>\n",
       "      <td>...</td>\n",
       "      <td>...</td>\n",
       "      <td>...</td>\n",
       "      <td>...</td>\n",
       "    </tr>\n",
       "    <tr>\n",
       "      <th>431</th>\n",
       "      <td></td>\n",
       "      <td>10/11/2022, 21:01:10</td>\n",
       "      <td>10/11/2022</td>\n",
       "      <td></td>\n",
       "      <td>68690.0</td>\n",
       "      <td>0.0</td>\n",
       "      <td>0.0</td>\n",
       "      <td>0.0</td>\n",
       "      <td>1.665502e+12</td>\n",
       "      <td>0.0</td>\n",
       "      <td>Back</td>\n",
       "      <td>21:01:10</td>\n",
       "      <td>SCH001</td>\n",
       "    </tr>\n",
       "    <tr>\n",
       "      <th>432</th>\n",
       "      <td></td>\n",
       "      <td>10/11/2022, 21:01:10</td>\n",
       "      <td>10/11/2022</td>\n",
       "      <td></td>\n",
       "      <td>71691.0</td>\n",
       "      <td>0.0</td>\n",
       "      <td>0.0</td>\n",
       "      <td>0.0</td>\n",
       "      <td>1.665502e+12</td>\n",
       "      <td>0.0</td>\n",
       "      <td>Back</td>\n",
       "      <td>21:01:10</td>\n",
       "      <td>SCH001</td>\n",
       "    </tr>\n",
       "    <tr>\n",
       "      <th>433</th>\n",
       "      <td></td>\n",
       "      <td>10/11/2022, 21:01:10</td>\n",
       "      <td>10/11/2022</td>\n",
       "      <td></td>\n",
       "      <td>74695.0</td>\n",
       "      <td>0.0</td>\n",
       "      <td>0.0</td>\n",
       "      <td>0.0</td>\n",
       "      <td>1.665502e+12</td>\n",
       "      <td>0.0</td>\n",
       "      <td>Back</td>\n",
       "      <td>21:01:10</td>\n",
       "      <td>SCH001</td>\n",
       "    </tr>\n",
       "    <tr>\n",
       "      <th>434</th>\n",
       "      <td></td>\n",
       "      <td>10/11/2022, 21:01:10</td>\n",
       "      <td>10/11/2022</td>\n",
       "      <td></td>\n",
       "      <td>77700.0</td>\n",
       "      <td>0.0</td>\n",
       "      <td>0.0</td>\n",
       "      <td>0.0</td>\n",
       "      <td>1.665502e+12</td>\n",
       "      <td>0.0</td>\n",
       "      <td>Back</td>\n",
       "      <td>21:01:10</td>\n",
       "      <td>SCH001</td>\n",
       "    </tr>\n",
       "    <tr>\n",
       "      <th>435</th>\n",
       "      <td></td>\n",
       "      <td>10/11/2022, 21:01:10</td>\n",
       "      <td>10/11/2022</td>\n",
       "      <td></td>\n",
       "      <td>80704.0</td>\n",
       "      <td>0.0</td>\n",
       "      <td>0.0</td>\n",
       "      <td>0.0</td>\n",
       "      <td>1.665502e+12</td>\n",
       "      <td>0.0</td>\n",
       "      <td>Back</td>\n",
       "      <td>21:01:10</td>\n",
       "      <td>SCH001</td>\n",
       "    </tr>\n",
       "  </tbody>\n",
       "</table>\n",
       "<p>436 rows × 13 columns</p>\n",
       "</div>"
      ],
      "text/plain": [
       "    Direction4             Date Time        Date Direction3  MilliSeconds  \\\n",
       "0               10/11/2022, 20:49:41  10/11/2022                  36681.0   \n",
       "1               10/11/2022, 20:49:41  10/11/2022                  39682.0   \n",
       "2               10/11/2022, 20:49:41  10/11/2022                  42684.0   \n",
       "3               10/11/2022, 20:49:41  10/11/2022                  45687.0   \n",
       "4               10/11/2022, 20:49:41  10/11/2022                  48688.0   \n",
       "..         ...                   ...         ...        ...           ...   \n",
       "431             10/11/2022, 21:01:10  10/11/2022                  68690.0   \n",
       "432             10/11/2022, 21:01:10  10/11/2022                  71691.0   \n",
       "433             10/11/2022, 21:01:10  10/11/2022                  74695.0   \n",
       "434             10/11/2022, 21:01:10  10/11/2022                  77700.0   \n",
       "435             10/11/2022, 21:01:10  10/11/2022                  80704.0   \n",
       "\n",
       "     count3  count4  nRotations3     Timestamp  nRotations4 Activity  \\\n",
       "0       0.0     0.0          0.0  1.665502e+12          0.0  Forward   \n",
       "1       0.0     0.0          0.0  1.665502e+12          0.0  Forward   \n",
       "2       0.0     0.0          0.0  1.665502e+12          0.0  Forward   \n",
       "3       0.0     0.0          0.0  1.665502e+12          0.0  Forward   \n",
       "4       0.0     0.0          0.0  1.665502e+12          0.0  Forward   \n",
       "..      ...     ...          ...           ...          ...      ...   \n",
       "431     0.0     0.0          0.0  1.665502e+12          0.0     Back   \n",
       "432     0.0     0.0          0.0  1.665502e+12          0.0     Back   \n",
       "433     0.0     0.0          0.0  1.665502e+12          0.0     Back   \n",
       "434     0.0     0.0          0.0  1.665502e+12          0.0     Back   \n",
       "435     0.0     0.0          0.0  1.665502e+12          0.0     Back   \n",
       "\n",
       "         Time     cid  \n",
       "0    20:49:41  SCH002  \n",
       "1    20:49:41  SCH002  \n",
       "2    20:49:41  SCH002  \n",
       "3    20:49:41  SCH002  \n",
       "4    20:49:41  SCH002  \n",
       "..        ...     ...  \n",
       "431  21:01:10  SCH001  \n",
       "432  21:01:10  SCH001  \n",
       "433  21:01:10  SCH001  \n",
       "434  21:01:10  SCH001  \n",
       "435  21:01:10  SCH001  \n",
       "\n",
       "[436 rows x 13 columns]"
      ]
     },
     "execution_count": 12,
     "metadata": {},
     "output_type": "execute_result"
    }
   ],
   "source": [
    "dataframe2 = pd.DataFrame.from_dict(json2, orient=\"columns\")\n",
    "dataframe2"
   ]
  },
  {
   "cell_type": "code",
   "execution_count": null,
   "id": "ae501397",
   "metadata": {},
   "outputs": [],
   "source": []
  },
  {
   "cell_type": "code",
   "execution_count": 37,
   "id": "c2c0004c",
   "metadata": {},
   "outputs": [],
   "source": [
    "dataframe2=dataframe2.loc[dataframe2.Activity=='Forward',:]"
   ]
  },
  {
   "cell_type": "code",
   "execution_count": 47,
   "id": "474e6a6d",
   "metadata": {},
   "outputs": [],
   "source": [
    "ch16Front=dataframe.loc[dataframe.cid=='CH016',:]\n",
    "ch14Front=dataframe.loc[dataframe.cid=='CH014',:]"
   ]
  },
  {
   "cell_type": "code",
   "execution_count": 49,
   "id": "345ff3e5",
   "metadata": {},
   "outputs": [
    {
     "name": "stderr",
     "output_type": "stream",
     "text": [
      "No handles with labels found to put in legend.\n"
     ]
    },
    {
     "data": {
      "text/plain": [
       "<matplotlib.legend.Legend at 0x24cc47c3fd0>"
      ]
     },
     "execution_count": 49,
     "metadata": {},
     "output_type": "execute_result"
    },
    {
     "data": {
      "image/png": "[encoded data removed]",
      "text/plain": [
       "<Figure size 432x288 with 1 Axes>"
      ]
     },
     "metadata": {},
     "output_type": "display_data"
    }
   ],
   "source": [
    " \n",
    "plt.plot(ch15Front['MilliSeconds']  , ch15Front['nRotations1'])\n",
    "plt.ylabel('Rotation count')\n",
    "plt.xlabel('Time(MilliSeconds)')\n",
    "plt.legend()"
   ]
  },
  {
   "cell_type": "code",
   "execution_count": 50,
   "id": "25e342fc",
   "metadata": {},
   "outputs": [
    {
     "name": "stderr",
     "output_type": "stream",
     "text": [
      "No handles with labels found to put in legend.\n"
     ]
    },
    {
     "data": {
      "text/plain": [
       "<matplotlib.legend.Legend at 0x24cc47d2c70>"
      ]
     },
     "execution_count": 50,
     "metadata": {},
     "output_type": "execute_result"
    },
    {
     "data": {
      "image/png": "[encoded data removed]",
      "text/plain": [
       "<Figure size 432x288 with 1 Axes>"
      ]
     },
     "metadata": {},
     "output_type": "display_data"
    }
   ],
   "source": [
    "plt.plot(ch16Front['MilliSeconds']  , ch16Front['nRotations1'])\n",
    "plt.ylabel('Rotation count')\n",
    "plt.xlabel('Time(MilliSeconds)')\n",
    "plt.legend()"
   ]
  },
  {
   "cell_type": "code",
   "execution_count": 48,
   "id": "6242c1be",
   "metadata": {},
   "outputs": [
    {
     "name": "stderr",
     "output_type": "stream",
     "text": [
      "No handles with labels found to put in legend.\n"
     ]
    },
    {
     "data": {
      "text/plain": [
       "<matplotlib.legend.Legend at 0x24cc4720310>"
      ]
     },
     "execution_count": 48,
     "metadata": {},
     "output_type": "execute_result"
    },
    {
     "data": {
      "image/png": "[encoded data removed]",
      "text/plain": [
       "<Figure size 432x288 with 1 Axes>"
      ]
     },
     "metadata": {},
     "output_type": "display_data"
    }
   ],
   "source": [
    "plt.plot(ch16Front['MilliSeconds']  , ch16Front['nRotations1'],label=)\n",
    "plt.plot(ch14Front['MilliSeconds']  , ch14Front['nRotations1'])\n",
    "plt.ylabel('Rotation count')\n",
    "plt.xlabel('Time(MilliSeconds)')\n",
    "plt.legend()\n"
   ]
  },
  {
   "cell_type": "code",
   "execution_count": 14,
   "id": "b7cae37a",
   "metadata": {
    "scrolled": true
   },
   "outputs": [
    {
     "data": {
      "text/html": [
       "<div>\n",
       "<style scoped>\n",
       "    .dataframe tbody tr th:only-of-type {\n",
       "        vertical-align: middle;\n",
       "    }\n",
       "\n",
       "    .dataframe tbody tr th {\n",
       "        vertical-align: top;\n",
       "    }\n",
       "\n",
       "    .dataframe thead th {\n",
       "        text-align: right;\n",
       "    }\n",
       "</style>\n",
       "<table border=\"1\" class=\"dataframe\">\n",
       "  <thead>\n",
       "    <tr style=\"text-align: right;\">\n",
       "      <th></th>\n",
       "      <th>nRotations1</th>\n",
       "      <th>nRotations2</th>\n",
       "    </tr>\n",
       "    <tr>\n",
       "      <th>cid</th>\n",
       "      <th></th>\n",
       "      <th></th>\n",
       "    </tr>\n",
       "  </thead>\n",
       "  <tbody>\n",
       "    <tr>\n",
       "      <th>CH014</th>\n",
       "      <td>5.0</td>\n",
       "      <td>5.0</td>\n",
       "    </tr>\n",
       "    <tr>\n",
       "      <th>CH015</th>\n",
       "      <td>5.0</td>\n",
       "      <td>5.0</td>\n",
       "    </tr>\n",
       "    <tr>\n",
       "      <th>CH016</th>\n",
       "      <td>8.0</td>\n",
       "      <td>8.0</td>\n",
       "    </tr>\n",
       "    <tr>\n",
       "      <th>CH017</th>\n",
       "      <td>1.0</td>\n",
       "      <td>2.0</td>\n",
       "    </tr>\n",
       "    <tr>\n",
       "      <th>CH071</th>\n",
       "      <td>7.0</td>\n",
       "      <td>10.0</td>\n",
       "    </tr>\n",
       "    <tr>\n",
       "      <th>SCH000</th>\n",
       "      <td>2.0</td>\n",
       "      <td>4.0</td>\n",
       "    </tr>\n",
       "    <tr>\n",
       "      <th>SCH001</th>\n",
       "      <td>2.0</td>\n",
       "      <td>2.0</td>\n",
       "    </tr>\n",
       "    <tr>\n",
       "      <th>SCH002</th>\n",
       "      <td>0.0</td>\n",
       "      <td>0.0</td>\n",
       "    </tr>\n",
       "  </tbody>\n",
       "</table>\n",
       "</div>"
      ],
      "text/plain": [
       "        nRotations1  nRotations2\n",
       "cid                             \n",
       "CH014           5.0          5.0\n",
       "CH015           5.0          5.0\n",
       "CH016           8.0          8.0\n",
       "CH017           1.0          2.0\n",
       "CH071           7.0         10.0\n",
       "SCH000          2.0          4.0\n",
       "SCH001          2.0          2.0\n",
       "SCH002          0.0          0.0"
      ]
     },
     "execution_count": 14,
     "metadata": {},
     "output_type": "execute_result"
    }
   ],
   "source": [
    "# max MPG and EngineSize for each Company\n",
    "df1=dataframe.groupby('cid')[['nRotations1', 'nRotations2']].max()\n",
    "df1"
   ]
  },
  {
   "cell_type": "code",
   "execution_count": 15,
   "id": "11cdd3ab",
   "metadata": {},
   "outputs": [
    {
     "data": {
      "text/plain": [
       "4.5"
      ]
     },
     "execution_count": 15,
     "metadata": {},
     "output_type": "execute_result"
    }
   ],
   "source": [
    "df1[\"nRotations2\"].mean()"
   ]
  },
  {
   "cell_type": "code",
   "execution_count": 16,
   "id": "f5537fb9",
   "metadata": {},
   "outputs": [
    {
     "data": {
      "text/html": [
       "<div>\n",
       "<style scoped>\n",
       "    .dataframe tbody tr th:only-of-type {\n",
       "        vertical-align: middle;\n",
       "    }\n",
       "\n",
       "    .dataframe tbody tr th {\n",
       "        vertical-align: top;\n",
       "    }\n",
       "\n",
       "    .dataframe thead th {\n",
       "        text-align: right;\n",
       "    }\n",
       "</style>\n",
       "<table border=\"1\" class=\"dataframe\">\n",
       "  <thead>\n",
       "    <tr style=\"text-align: right;\">\n",
       "      <th></th>\n",
       "      <th>nRotations3</th>\n",
       "      <th>nRotations4</th>\n",
       "    </tr>\n",
       "    <tr>\n",
       "      <th>cid</th>\n",
       "      <th></th>\n",
       "      <th></th>\n",
       "    </tr>\n",
       "  </thead>\n",
       "  <tbody>\n",
       "    <tr>\n",
       "      <th>CH014</th>\n",
       "      <td>7.0</td>\n",
       "      <td>7.0</td>\n",
       "    </tr>\n",
       "    <tr>\n",
       "      <th>CH015</th>\n",
       "      <td>6.0</td>\n",
       "      <td>7.0</td>\n",
       "    </tr>\n",
       "    <tr>\n",
       "      <th>CH016</th>\n",
       "      <td>9.0</td>\n",
       "      <td>9.0</td>\n",
       "    </tr>\n",
       "    <tr>\n",
       "      <th>CH017</th>\n",
       "      <td>1.0</td>\n",
       "      <td>1.0</td>\n",
       "    </tr>\n",
       "    <tr>\n",
       "      <th>CH071</th>\n",
       "      <td>15.0</td>\n",
       "      <td>1.0</td>\n",
       "    </tr>\n",
       "    <tr>\n",
       "      <th>SCH001</th>\n",
       "      <td>3.0</td>\n",
       "      <td>0.0</td>\n",
       "    </tr>\n",
       "    <tr>\n",
       "      <th>SCH002</th>\n",
       "      <td>0.0</td>\n",
       "      <td>0.0</td>\n",
       "    </tr>\n",
       "  </tbody>\n",
       "</table>\n",
       "</div>"
      ],
      "text/plain": [
       "        nRotations3  nRotations4\n",
       "cid                             \n",
       "CH014           7.0          7.0\n",
       "CH015           6.0          7.0\n",
       "CH016           9.0          9.0\n",
       "CH017           1.0          1.0\n",
       "CH071          15.0          1.0\n",
       "SCH001          3.0          0.0\n",
       "SCH002          0.0          0.0"
      ]
     },
     "execution_count": 16,
     "metadata": {},
     "output_type": "execute_result"
    }
   ],
   "source": [
    "# max MPG and EngineSize for each Company\n",
    "df2=dataframe2.groupby('cid')[['nRotations3', 'nRotations4']].max()\n",
    "df2"
   ]
  },
  {
   "cell_type": "code",
   "execution_count": null,
   "id": "edfe01a7",
   "metadata": {},
   "outputs": [],
   "source": []
  },
  {
   "cell_type": "code",
   "execution_count": 17,
   "id": "84f9a200",
   "metadata": {},
   "outputs": [
    {
     "data": {
      "text/plain": [
       "3.5714285714285716"
      ]
     },
     "execution_count": 17,
     "metadata": {},
     "output_type": "execute_result"
    }
   ],
   "source": [
    "df2[\"nRotations4\"].mean()"
   ]
  },
  {
   "cell_type": "code",
   "execution_count": 55,
   "id": "793d8e49",
   "metadata": {},
   "outputs": [
    {
     "data": {
      "text/html": [
       "<div>\n",
       "<style scoped>\n",
       "    .dataframe tbody tr th:only-of-type {\n",
       "        vertical-align: middle;\n",
       "    }\n",
       "\n",
       "    .dataframe tbody tr th {\n",
       "        vertical-align: top;\n",
       "    }\n",
       "\n",
       "    .dataframe thead th {\n",
       "        text-align: right;\n",
       "    }\n",
       "</style>\n",
       "<table border=\"1\" class=\"dataframe\">\n",
       "  <thead>\n",
       "    <tr style=\"text-align: right;\">\n",
       "      <th></th>\n",
       "      <th>nRotations1</th>\n",
       "      <th>nRotations2</th>\n",
       "      <th>nRotations3</th>\n",
       "      <th>nRotations4</th>\n",
       "    </tr>\n",
       "    <tr>\n",
       "      <th>cid</th>\n",
       "      <th></th>\n",
       "      <th></th>\n",
       "      <th></th>\n",
       "      <th></th>\n",
       "    </tr>\n",
       "  </thead>\n",
       "  <tbody>\n",
       "    <tr>\n",
       "      <th>CH014</th>\n",
       "      <td>5.0</td>\n",
       "      <td>5.0</td>\n",
       "      <td>7.0</td>\n",
       "      <td>7.0</td>\n",
       "    </tr>\n",
       "    <tr>\n",
       "      <th>CH015</th>\n",
       "      <td>5.0</td>\n",
       "      <td>5.0</td>\n",
       "      <td>6.0</td>\n",
       "      <td>7.0</td>\n",
       "    </tr>\n",
       "    <tr>\n",
       "      <th>CH016</th>\n",
       "      <td>8.0</td>\n",
       "      <td>8.0</td>\n",
       "      <td>9.0</td>\n",
       "      <td>9.0</td>\n",
       "    </tr>\n",
       "    <tr>\n",
       "      <th>CH017</th>\n",
       "      <td>1.0</td>\n",
       "      <td>2.0</td>\n",
       "      <td>1.0</td>\n",
       "      <td>1.0</td>\n",
       "    </tr>\n",
       "    <tr>\n",
       "      <th>CH071</th>\n",
       "      <td>7.0</td>\n",
       "      <td>10.0</td>\n",
       "      <td>15.0</td>\n",
       "      <td>1.0</td>\n",
       "    </tr>\n",
       "    <tr>\n",
       "      <th>SCH000</th>\n",
       "      <td>2.0</td>\n",
       "      <td>4.0</td>\n",
       "      <td>NaN</td>\n",
       "      <td>NaN</td>\n",
       "    </tr>\n",
       "    <tr>\n",
       "      <th>SCH001</th>\n",
       "      <td>2.0</td>\n",
       "      <td>2.0</td>\n",
       "      <td>3.0</td>\n",
       "      <td>0.0</td>\n",
       "    </tr>\n",
       "    <tr>\n",
       "      <th>SCH002</th>\n",
       "      <td>0.0</td>\n",
       "      <td>0.0</td>\n",
       "      <td>0.0</td>\n",
       "      <td>0.0</td>\n",
       "    </tr>\n",
       "  </tbody>\n",
       "</table>\n",
       "</div>"
      ],
      "text/plain": [
       "        nRotations1  nRotations2  nRotations3  nRotations4\n",
       "cid                                                       \n",
       "CH014           5.0          5.0          7.0          7.0\n",
       "CH015           5.0          5.0          6.0          7.0\n",
       "CH016           8.0          8.0          9.0          9.0\n",
       "CH017           1.0          2.0          1.0          1.0\n",
       "CH071           7.0         10.0         15.0          1.0\n",
       "SCH000          2.0          4.0          NaN          NaN\n",
       "SCH001          2.0          2.0          3.0          0.0\n",
       "SCH002          0.0          0.0          0.0          0.0"
      ]
     },
     "metadata": {},
     "output_type": "display_data"
    }
   ],
   "source": [
    "x = pd.concat([df1, df2], axis=1, join='outer')\n",
    "display(x)"
   ]
  },
  {
   "cell_type": "code",
   "execution_count": null,
   "id": "c3420864",
   "metadata": {},
   "outputs": [],
   "source": []
  },
  {
   "cell_type": "code",
   "execution_count": 35,
   "id": "0af7511e",
   "metadata": {},
   "outputs": [
    {
     "data": {
      "text/plain": [
       "4.125"
      ]
     },
     "execution_count": 35,
     "metadata": {},
     "output_type": "execute_result"
    }
   ],
   "source": [
    "j=(x[\"nRotations1\"].mean()+x[\"nRotations2\"].mean()+x[\"nRotations3\"].mean()+x[\"nRotations4\"].mean())/4\n",
    "j"
   ]
  },
  {
   "cell_type": "code",
   "execution_count": null,
   "id": "804e4a77",
   "metadata": {},
   "outputs": [],
   "source": []
  },
  {
   "cell_type": "code",
   "execution_count": 56,
   "id": "65fe460e",
   "metadata": {},
   "outputs": [],
   "source": [
    "rows_count = x.count()[0]\n",
    "rows_count\n",
    "x=x.fillna(0)"
   ]
  },
  {
   "cell_type": "code",
   "execution_count": 57,
   "id": "f8491fa2",
   "metadata": {},
   "outputs": [
    {
     "data": {
      "text/html": [
       "<div>\n",
       "<style scoped>\n",
       "    .dataframe tbody tr th:only-of-type {\n",
       "        vertical-align: middle;\n",
       "    }\n",
       "\n",
       "    .dataframe tbody tr th {\n",
       "        vertical-align: top;\n",
       "    }\n",
       "\n",
       "    .dataframe thead th {\n",
       "        text-align: right;\n",
       "    }\n",
       "</style>\n",
       "<table border=\"1\" class=\"dataframe\">\n",
       "  <thead>\n",
       "    <tr style=\"text-align: right;\">\n",
       "      <th></th>\n",
       "      <th>nRotations1</th>\n",
       "      <th>nRotations2</th>\n",
       "      <th>nRotations3</th>\n",
       "      <th>nRotations4</th>\n",
       "    </tr>\n",
       "    <tr>\n",
       "      <th>cid</th>\n",
       "      <th></th>\n",
       "      <th></th>\n",
       "      <th></th>\n",
       "      <th></th>\n",
       "    </tr>\n",
       "  </thead>\n",
       "  <tbody>\n",
       "    <tr>\n",
       "      <th>CH014</th>\n",
       "      <td>5.0</td>\n",
       "      <td>5.0</td>\n",
       "      <td>7.0</td>\n",
       "      <td>7.0</td>\n",
       "    </tr>\n",
       "    <tr>\n",
       "      <th>CH015</th>\n",
       "      <td>5.0</td>\n",
       "      <td>5.0</td>\n",
       "      <td>6.0</td>\n",
       "      <td>7.0</td>\n",
       "    </tr>\n",
       "    <tr>\n",
       "      <th>CH016</th>\n",
       "      <td>8.0</td>\n",
       "      <td>8.0</td>\n",
       "      <td>9.0</td>\n",
       "      <td>9.0</td>\n",
       "    </tr>\n",
       "    <tr>\n",
       "      <th>CH017</th>\n",
       "      <td>1.0</td>\n",
       "      <td>2.0</td>\n",
       "      <td>1.0</td>\n",
       "      <td>1.0</td>\n",
       "    </tr>\n",
       "    <tr>\n",
       "      <th>CH071</th>\n",
       "      <td>7.0</td>\n",
       "      <td>10.0</td>\n",
       "      <td>15.0</td>\n",
       "      <td>1.0</td>\n",
       "    </tr>\n",
       "    <tr>\n",
       "      <th>SCH000</th>\n",
       "      <td>2.0</td>\n",
       "      <td>4.0</td>\n",
       "      <td>0.0</td>\n",
       "      <td>0.0</td>\n",
       "    </tr>\n",
       "    <tr>\n",
       "      <th>SCH001</th>\n",
       "      <td>2.0</td>\n",
       "      <td>2.0</td>\n",
       "      <td>3.0</td>\n",
       "      <td>0.0</td>\n",
       "    </tr>\n",
       "    <tr>\n",
       "      <th>SCH002</th>\n",
       "      <td>0.0</td>\n",
       "      <td>0.0</td>\n",
       "      <td>0.0</td>\n",
       "      <td>0.0</td>\n",
       "    </tr>\n",
       "  </tbody>\n",
       "</table>\n",
       "</div>"
      ],
      "text/plain": [
       "        nRotations1  nRotations2  nRotations3  nRotations4\n",
       "cid                                                       \n",
       "CH014           5.0          5.0          7.0          7.0\n",
       "CH015           5.0          5.0          6.0          7.0\n",
       "CH016           8.0          8.0          9.0          9.0\n",
       "CH017           1.0          2.0          1.0          1.0\n",
       "CH071           7.0         10.0         15.0          1.0\n",
       "SCH000          2.0          4.0          0.0          0.0\n",
       "SCH001          2.0          2.0          3.0          0.0\n",
       "SCH002          0.0          0.0          0.0          0.0"
      ]
     },
     "metadata": {},
     "output_type": "display_data"
    }
   ],
   "source": [
    "display(x)"
   ]
  },
  {
   "cell_type": "code",
   "execution_count": null,
   "id": "b4e60c21",
   "metadata": {},
   "outputs": [],
   "source": []
  },
  {
   "cell_type": "code",
   "execution_count": 20,
   "id": "8c973930",
   "metadata": {},
   "outputs": [
    {
     "name": "stderr",
     "output_type": "stream",
     "text": [
      "C:\\Users\\user\\anaconda3\\lib\\site-packages\\sklearn\\cluster\\_kmeans.py:881: UserWarning: KMeans is known to have a memory leak on Windows with MKL, when there are less chunks than available threads. You can avoid it by setting the environment variable OMP_NUM_THREADS=1.\n",
      "  warnings.warn(\n"
     ]
    }
   ],
   "source": [
    "#Finding the optimum number of clusters for k-means classification\n",
    "from sklearn.cluster import KMeans\n",
    "wcss = []\n",
    "\n",
    "for i in range(1, rows_count+1):\n",
    "    kmeans = KMeans(n_clusters = i, init = 'k-means++', max_iter = 300, n_init = 10, random_state = 0)\n",
    "    kmeans.fit(x)\n",
    "    wcss.append(kmeans.inertia_)"
   ]
  },
  {
   "cell_type": "code",
   "execution_count": 21,
   "id": "62267f72",
   "metadata": {},
   "outputs": [
    {
     "data": {
      "image/png": "[encoded data removed]",
      "text/plain": [
       "<Figure size 432x288 with 1 Axes>"
      ]
     },
     "metadata": {},
     "output_type": "display_data"
    }
   ],
   "source": [
    "plt.plot(range(1, rows_count+1), wcss)\n",
    "plt.title('The elbow method')\n",
    "plt.xlabel('Number of clusters')\n",
    "plt.ylabel('WCSS') #within cluster sum of squares\n",
    "plt.show()"
   ]
  },
  {
   "cell_type": "code",
   "execution_count": 22,
   "id": "ed6cd38b",
   "metadata": {},
   "outputs": [],
   "source": [
    "kmeans = KMeans(n_clusters = 2, init = 'k-means++', max_iter = 300, n_init = 10, random_state = 0)\n",
    "y_kmeans = kmeans.fit_predict(x)"
   ]
  },
  {
   "cell_type": "code",
   "execution_count": 53,
   "id": "6cc9662e",
   "metadata": {},
   "outputs": [
    {
     "data": {
      "text/plain": [
       "<function matplotlib.pyplot.legend(*args, **kwargs)>"
      ]
     },
     "execution_count": 53,
     "metadata": {},
     "output_type": "execute_result"
    },
    {
     "data": {
      "image/png": "[encoded data removed]",
      "text/plain": [
       "<Figure size 432x288 with 1 Axes>"
      ]
     },
     "metadata": {},
     "output_type": "display_data"
    }
   ],
   "source": [
    "plt.scatter(x[y_kmeans == 0], x[y_kmeans == 0],  c = 'purple', label = 'Typical')\n",
    "plt.scatter(x[y_kmeans == 1], x[y_kmeans == 1],  c = 'orange', label = 'Atypical')\n",
    "#Plotting the centroids of the clusters\n",
    "plt.scatter(kmeans.cluster_centers_[:, 0], kmeans.cluster_centers_[:,1],  c = 'red', label = 'Centroids')\n",
    "plt.legend\n"
   ]
  },
  {
   "cell_type": "code",
   "execution_count": 24,
   "id": "1a2e9dba",
   "metadata": {},
   "outputs": [
    {
     "data": {
      "text/plain": [
       "Index(['nRotations1', 'nRotations2', 'nRotations3', 'nRotations4'], dtype='object')"
      ]
     },
     "execution_count": 24,
     "metadata": {},
     "output_type": "execute_result"
    }
   ],
   "source": [
    "x.columns"
   ]
  },
  {
   "cell_type": "code",
   "execution_count": 25,
   "id": "02a83e86",
   "metadata": {},
   "outputs": [
    {
     "data": {
      "text/plain": [
       "KMeans(n_clusters=2, random_state=5)"
      ]
     },
     "execution_count": 25,
     "metadata": {},
     "output_type": "execute_result"
    }
   ],
   "source": [
    "# build model for k=5\n",
    "model = KMeans(n_clusters=2, random_state=5)\n",
    "# fit the model\n",
    "model.fit(x)"
   ]
  },
  {
   "cell_type": "code",
   "execution_count": 26,
   "id": "582b94f8",
   "metadata": {},
   "outputs": [],
   "source": [
    "# predict the values\n",
    "y_predicted = model.fit_predict(x)"
   ]
  },
  {
   "cell_type": "code",
   "execution_count": 58,
   "id": "f87d2465",
   "metadata": {},
   "outputs": [
    {
     "data": {
      "text/html": [
       "<div>\n",
       "<style scoped>\n",
       "    .dataframe tbody tr th:only-of-type {\n",
       "        vertical-align: middle;\n",
       "    }\n",
       "\n",
       "    .dataframe tbody tr th {\n",
       "        vertical-align: top;\n",
       "    }\n",
       "\n",
       "    .dataframe thead th {\n",
       "        text-align: right;\n",
       "    }\n",
       "</style>\n",
       "<table border=\"1\" class=\"dataframe\">\n",
       "  <thead>\n",
       "    <tr style=\"text-align: right;\">\n",
       "      <th></th>\n",
       "      <th>nRotations1</th>\n",
       "      <th>nRotations2</th>\n",
       "      <th>nRotations3</th>\n",
       "      <th>nRotations4</th>\n",
       "      <th>cluster</th>\n",
       "    </tr>\n",
       "    <tr>\n",
       "      <th>cid</th>\n",
       "      <th></th>\n",
       "      <th></th>\n",
       "      <th></th>\n",
       "      <th></th>\n",
       "      <th></th>\n",
       "    </tr>\n",
       "  </thead>\n",
       "  <tbody>\n",
       "    <tr>\n",
       "      <th>CH014</th>\n",
       "      <td>5.0</td>\n",
       "      <td>5.0</td>\n",
       "      <td>7.0</td>\n",
       "      <td>7.0</td>\n",
       "      <td>1</td>\n",
       "    </tr>\n",
       "    <tr>\n",
       "      <th>CH015</th>\n",
       "      <td>5.0</td>\n",
       "      <td>5.0</td>\n",
       "      <td>6.0</td>\n",
       "      <td>7.0</td>\n",
       "      <td>1</td>\n",
       "    </tr>\n",
       "    <tr>\n",
       "      <th>CH016</th>\n",
       "      <td>8.0</td>\n",
       "      <td>8.0</td>\n",
       "      <td>9.0</td>\n",
       "      <td>9.0</td>\n",
       "      <td>1</td>\n",
       "    </tr>\n",
       "    <tr>\n",
       "      <th>CH017</th>\n",
       "      <td>1.0</td>\n",
       "      <td>2.0</td>\n",
       "      <td>1.0</td>\n",
       "      <td>1.0</td>\n",
       "      <td>0</td>\n",
       "    </tr>\n",
       "    <tr>\n",
       "      <th>CH071</th>\n",
       "      <td>7.0</td>\n",
       "      <td>10.0</td>\n",
       "      <td>15.0</td>\n",
       "      <td>1.0</td>\n",
       "      <td>1</td>\n",
       "    </tr>\n",
       "    <tr>\n",
       "      <th>SCH000</th>\n",
       "      <td>2.0</td>\n",
       "      <td>4.0</td>\n",
       "      <td>0.0</td>\n",
       "      <td>0.0</td>\n",
       "      <td>0</td>\n",
       "    </tr>\n",
       "    <tr>\n",
       "      <th>SCH001</th>\n",
       "      <td>2.0</td>\n",
       "      <td>2.0</td>\n",
       "      <td>3.0</td>\n",
       "      <td>0.0</td>\n",
       "      <td>0</td>\n",
       "    </tr>\n",
       "    <tr>\n",
       "      <th>SCH002</th>\n",
       "      <td>0.0</td>\n",
       "      <td>0.0</td>\n",
       "      <td>0.0</td>\n",
       "      <td>0.0</td>\n",
       "      <td>0</td>\n",
       "    </tr>\n",
       "  </tbody>\n",
       "</table>\n",
       "</div>"
      ],
      "text/plain": [
       "        nRotations1  nRotations2  nRotations3  nRotations4  cluster\n",
       "cid                                                                \n",
       "CH014           5.0          5.0          7.0          7.0        1\n",
       "CH015           5.0          5.0          6.0          7.0        1\n",
       "CH016           8.0          8.0          9.0          9.0        1\n",
       "CH017           1.0          2.0          1.0          1.0        0\n",
       "CH071           7.0         10.0         15.0          1.0        1\n",
       "SCH000          2.0          4.0          0.0          0.0        0\n",
       "SCH001          2.0          2.0          3.0          0.0        0\n",
       "SCH002          0.0          0.0          0.0          0.0        0"
      ]
     },
     "execution_count": 58,
     "metadata": {},
     "output_type": "execute_result"
    }
   ],
   "source": [
    "# add the new column to the dataframe\n",
    "x['cluster'] = y_predicted\n",
    "# display the dataframe\n",
    "x"
   ]
  },
  {
   "cell_type": "code",
   "execution_count": 60,
   "id": "91372565",
   "metadata": {},
   "outputs": [],
   "source": [
    "# x.to_csv('MaxCount.csv')"
   ]
  },
  {
   "cell_type": "code",
   "execution_count": 28,
   "id": "691611be",
   "metadata": {},
   "outputs": [
    {
     "data": {
      "text/plain": [
       "array([1, 0])"
      ]
     },
     "execution_count": 28,
     "metadata": {},
     "output_type": "execute_result"
    }
   ],
   "source": [
    "# check the number of clusters\n",
    "x['cluster'].unique()"
   ]
  },
  {
   "cell_type": "code",
   "execution_count": 29,
   "id": "9ec8fa38",
   "metadata": {},
   "outputs": [
    {
     "data": {
      "text/plain": [
       "array([[1.25, 2.  , 1.  , 0.25],\n",
       "       [6.25, 7.  , 9.25, 6.  ]])"
      ]
     },
     "execution_count": 29,
     "metadata": {},
     "output_type": "execute_result"
    }
   ],
   "source": [
    "model.cluster_centers_"
   ]
  },
  {
   "cell_type": "code",
   "execution_count": 30,
   "id": "9bd8af85",
   "metadata": {},
   "outputs": [
    {
     "data": {
      "text/plain": [
       "<AxesSubplot:xlabel='cluster', ylabel='count'>"
      ]
     },
     "execution_count": 30,
     "metadata": {},
     "output_type": "execute_result"
    },
    {
     "data": {
      "image/png": "[encoded data removed]",
      "text/plain": [
       "<Figure size 432x288 with 1 Axes>"
      ]
     },
     "metadata": {},
     "output_type": "display_data"
    }
   ],
   "source": [
    "# use 'seaborn' library to plot a barplot for cluster size\n",
    "sns.countplot(data= x, x = 'cluster')\n",
    "         "
   ]
  },
  {
   "cell_type": "code",
   "execution_count": 31,
   "id": "75b98744",
   "metadata": {},
   "outputs": [
    {
     "data": {
      "text/plain": [
       "dtype('int32')"
      ]
     },
     "execution_count": 31,
     "metadata": {},
     "output_type": "execute_result"
    }
   ],
   "source": [
    "# check the data type of the 'cluster'\n",
    "x['cluster'].dtypes"
   ]
  },
  {
   "cell_type": "code",
   "execution_count": 32,
   "id": "de5983d8",
   "metadata": {},
   "outputs": [],
   "source": [
    "# change the data type\n",
    "df_x = x['cluster'].astype(object)"
   ]
  },
  {
   "cell_type": "code",
   "execution_count": 33,
   "id": "7f7fb2ba",
   "metadata": {},
   "outputs": [],
   "source": [
    "# serializing our model to a file called model.pkl\n",
    "import pickle\n",
    "pickle.dump(model, open(\"car_model.pkl\",\"wb\"))"
   ]
  },
  {
   "cell_type": "code",
   "execution_count": null,
   "id": "1ce484ed",
   "metadata": {},
   "outputs": [],
   "source": []
  }
 ],
 "metadata": {
  "kernelspec": {
   "display_name": "Python 3",
   "language": "python",
   "name": "python3"
  },
  "language_info": {
   "codemirror_mode": {
    "name": "ipython",
    "version": 3
   },
   "file_extension": ".py",
   "mimetype": "text/x-python",
   "name": "python",
   "nbconvert_exporter": "python",
   "pygments_lexer": "ipython3",
   "version": "3.8.8"
  },
  "vscode": {
   "interpreter": {
    "hash": "369f2c481f4da34e4445cda3fffd2e751bd1c4d706f27375911949ba6bb62e1c"
   }
  }
 },
 "nbformat": 4,
 "nbformat_minor": 5
}
